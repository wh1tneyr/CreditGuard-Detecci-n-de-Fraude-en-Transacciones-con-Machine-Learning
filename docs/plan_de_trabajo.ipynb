{
 "cells": [
  {
   "cell_type": "markdown",
   "metadata": {},
   "source": [
    "# CreditGuard: Detección de Fraude en Transacciones con Machine Learning\n",
    "\n",
    "\n",
    "### Objetivo del Proyecto:\n",
    "\n",
    "Desarrollar un modelo de machine learning que detecte transacciones financieras fraudulentas a partir de datos históricos. El objetivo es minimizar los falsos positivos y maximizar la precisión en la detección de fraudes para reducir las pérdidas económicas.\n",
    "\n",
    "Para ello, cuento con un conjunto de datos que contiene transacciones de tarjetas de crédito realizadas por titulares de tarjetas europeos en el año 2023. "
   ]
  }
 ],
 "metadata": {
  "language_info": {
   "name": "python"
  }
 },
 "nbformat": 4,
 "nbformat_minor": 2
}
